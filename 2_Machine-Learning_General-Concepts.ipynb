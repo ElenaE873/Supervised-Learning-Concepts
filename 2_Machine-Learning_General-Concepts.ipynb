{
 "cells": [
  {
   "cell_type": "markdown",
   "id": "2082f5d4",
   "metadata": {},
   "source": [
    "### Python Classes in Machine Learning"
   ]
  },
  {
   "cell_type": "markdown",
   "id": "25146f4b",
   "metadata": {},
   "source": [
    "- machine learning models are implemented as pythonc classes\n",
    "- store information learned from the data"
   ]
  }
 ],
 "metadata": {
  "kernelspec": {
   "display_name": "Python 3 (ipykernel)",
   "language": "python",
   "name": "python3"
  },
  "language_info": {
   "codemirror_mode": {
    "name": "ipython",
    "version": 3
   },
   "file_extension": ".py",
   "mimetype": "text/x-python",
   "name": "python",
   "nbconvert_exporter": "python",
   "pygments_lexer": "ipython3",
   "version": "3.9.7"
  }
 },
 "nbformat": 4,
 "nbformat_minor": 5
}
