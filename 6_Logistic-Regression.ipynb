{
 "cells": [
  {
   "cell_type": "markdown",
   "id": "7c2a3d44",
   "metadata": {},
   "source": [
    "Used in Classification problems (NOT regression problems, despite the name)"
   ]
  },
  {
   "cell_type": "markdown",
   "id": "42de55a8",
   "metadata": {},
   "source": [
    "### How it works"
   ]
  },
  {
   "cell_type": "markdown",
   "id": "77c7f210",
   "metadata": {},
   "source": [
    "Logist regression outputs **probabilities**"
   ]
  },
  {
   "cell_type": "markdown",
   "id": "2e5bc357",
   "metadata": {},
   "source": [
    "- if probability p is greater than 0.5 >> labeled as \"1\"\n",
    "- if probability p is less than 0.5 >> labeled as \"0\""
   ]
  },
  {
   "cell_type": "markdown",
   "id": "edca71fb",
   "metadata": {},
   "source": [
    "Creates a linear decision boundary"
   ]
  },
  {
   "cell_type": "code",
   "execution_count": null,
   "id": "052e6126",
   "metadata": {},
   "outputs": [],
   "source": [
    "#follows the same approach as the KNN modeling\n",
    "#1 - import\n",
    "from sklearn.linear_model import LogisticRegression\n",
    "#2 instantiate the model instance\n",
    "#3 - split test/train\n",
    "#4 - fit to the training split\n",
    "#5 - predict on the test X_test"
   ]
  }
 ],
 "metadata": {
  "kernelspec": {
   "display_name": "Python 3 (ipykernel)",
   "language": "python",
   "name": "python3"
  },
  "language_info": {
   "codemirror_mode": {
    "name": "ipython",
    "version": 3
   },
   "file_extension": ".py",
   "mimetype": "text/x-python",
   "name": "python",
   "nbconvert_exporter": "python",
   "pygments_lexer": "ipython3",
   "version": "3.9.7"
  }
 },
 "nbformat": 4,
 "nbformat_minor": 5
}
