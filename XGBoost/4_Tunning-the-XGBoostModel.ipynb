{
 "cells": [
  {
   "cell_type": "markdown",
   "id": "269062a6",
   "metadata": {},
   "source": [
    "#### Examining the effect of tuning the model on RMSE"
   ]
  },
  {
   "cell_type": "markdown",
   "id": "3db9d01b",
   "metadata": {},
   "source": [
    "### Simple untuned model, first"
   ]
  },
  {
   "cell_type": "code",
   "execution_count": null,
   "id": "8866379d",
   "metadata": {},
   "outputs": [],
   "source": [
    "#define X and y\n",
    "X, y = data.iloc[:, :-1], data.iloc[:, -1]\n",
    "\n",
    "#create the maxtrix\n",
    "DMatrix = xgb.DMatrix(data=X, label=y)\n",
    "\n",
    "#untuned parameter, the most basic\n",
    "untuned_params = {\"objective\":\"reg:linear\"}\n",
    "\n",
    "cv_results_rmse_untuned = xgb.cv(dtrain=DMatrix, params=untuned_params, nfold=4,\n",
    "                       num_boost_round=10, metrics=\"rmse\", as_pandas=True, seed=123)\n",
    "\n",
    "print (\"Untuned rmse: %f\" %((cv_results_rmse_untuned[\"test-rmse-mean\"]).tail(1)))"
   ]
  },
  {
   "cell_type": "markdown",
   "id": "034c11ff",
   "metadata": {},
   "source": [
    "#### Tuned model"
   ]
  },
  {
   "cell_type": "code",
   "execution_count": null,
   "id": "c713a2e8",
   "metadata": {},
   "outputs": [],
   "source": [
    "tuned_params = {\"objective\":\"reg:linear\",\n",
    "                #additional important parameters that can be tuned\n",
    "               'colsample_bytree':0.3,\n",
    "               'learning_rate':0.1,\n",
    "               'max_depth': 5}\n",
    "\n",
    "cv_results_rmse_tuned = xgb.cv(dtrain=DMatrix, params=tuned_params, nfold=4,\n",
    "                       num_boost_round=200, #setting this parameter differently\n",
    "                               metrics=\"rmse\", as_pandas=True, seed=123)\n",
    "\n",
    "print (\"Tuned rmse: %f\" %((cv_results_rmse_tuned[\"test-rmse-mean\"]).tail(1)))"
   ]
  },
  {
   "cell_type": "markdown",
   "id": "41634622",
   "metadata": {},
   "source": [
    "### Tunable Parameters for each Base Learner"
   ]
  },
  {
   "cell_type": "markdown",
   "id": "78b382b7",
   "metadata": {},
   "source": [
    "Common Tree Tunable Parameters\n",
    "- **learning rate**\n",
    "- **gamma**\n",
    "- **lambda**\n",
    "- **alpha**\n",
    "- **max_depth**\n",
    "- **subsample**\n",
    "- **colsample_bytree**\n",
    "\n",
    "Common Linear Tunable Parameters:\n",
    "- **lamda**\n",
    "- **alpha**\n",
    "- **labmda_bias**"
   ]
  }
 ],
 "metadata": {
  "kernelspec": {
   "display_name": "Python 3 (ipykernel)",
   "language": "python",
   "name": "python3"
  },
  "language_info": {
   "codemirror_mode": {
    "name": "ipython",
    "version": 3
   },
   "file_extension": ".py",
   "mimetype": "text/x-python",
   "name": "python",
   "nbconvert_exporter": "python",
   "pygments_lexer": "ipython3",
   "version": "3.9.7"
  }
 },
 "nbformat": 4,
 "nbformat_minor": 5
}
