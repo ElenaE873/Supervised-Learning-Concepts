{
 "cells": [
  {
   "cell_type": "markdown",
   "id": "99f85967",
   "metadata": {},
   "source": [
    "- optimized gradient-boosting machine learning library"
   ]
  },
  {
   "cell_type": "markdown",
   "id": "563598e3",
   "metadata": {},
   "source": [
    "##### what makes XGBoost so great?"
   ]
  },
  {
   "cell_type": "markdown",
   "id": "24bd04a8",
   "metadata": {},
   "source": [
    "- speed and performance\n",
    "- consistently outperforms the single-algorithm methods"
   ]
  },
  {
   "cell_type": "markdown",
   "id": "59888354",
   "metadata": {},
   "source": [
    "#### Basic Structure"
   ]
  },
  {
   "cell_type": "code",
   "execution_count": null,
   "id": "7f2f6f2a",
   "metadata": {},
   "outputs": [],
   "source": [
    "#importing libraries\n",
    "import pandas as pd\n",
    "data = pd.read_csv(\"filename.csv\")\n",
    "\n",
    "import numpy as np\n",
    "\n",
    "import xgboost as xgb\n",
    "from sklearn.model_selection import train_test_split\n",
    "\n",
    "X, y = data.iloc[:,:-1], data.iloc[:,-1]\n",
    "\n",
    "#spliting the training dataset with train/test split for hold out of validation\n",
    "X_train, X_test, y_train, y_test = train_test_split(X, y, \n",
    "                                                   test_size=0.2,\n",
    "                                                   random_state=123)\n",
    "\n",
    "#defining the Classifier with the hyperparameters\n",
    "xg_cl = xgb.XGBClassifier(objective='binary:logistic',\n",
    "                         n_estimator=10,\n",
    "                         seed=123)\n",
    "\n",
    "xg_cl.fit(X_train, y_train)  #training the model on X, Y of training split\n",
    "\n",
    "preds = xg_cl.predict(X_test) #predicting outcomes on X of testing split"
   ]
  },
  {
   "cell_type": "markdown",
   "id": "fca1992f",
   "metadata": {},
   "source": [
    "##### Cross-Validation"
   ]
  },
  {
   "cell_type": "code",
   "execution_count": null,
   "id": "53e317b6",
   "metadata": {},
   "outputs": [],
   "source": [
    "import xgboost as xgb\n",
    "import pandas as pd\n",
    "data = pd.read_csv(\"filename.csv\")\n",
    "\n",
    "data_matrix = xgb.DMatrix(data_in=data.iloc[:,:-1],\n",
    "                         label=data.month_5_still_here)\n",
    "\n",
    "params={\"objective\":\"binary:logistic\",\n",
    "       \"max_depth\":4}\n",
    "\n",
    "cv_results = xgb.cv(dtrain=data_matrix, params=params, nfold=4,\n",
    "                   num_boost_round=10, metrics=\"error\", as_pandas=True)\n",
    "\n",
    "print(\"Accuracy: %f\" %((1-cv_results[\"test-error-mean\"]).iloc[-1]))"
   ]
  },
  {
   "cell_type": "markdown",
   "id": "870ea161",
   "metadata": {},
   "source": [
    "##### When Should XGBoost be used?"
   ]
  },
  {
   "cell_type": "markdown",
   "id": "12d278a7",
   "metadata": {},
   "source": [
    "- large number of training samples (>1,000 samples and <100 features)\n",
    "- the #of features < number of training samples\n",
    "- mixture of categorical/numerical or numerical"
   ]
  },
  {
   "cell_type": "markdown",
   "id": "25684903",
   "metadata": {},
   "source": [
    "#### not well suited for:"
   ]
  },
  {
   "cell_type": "markdown",
   "id": "66831421",
   "metadata": {},
   "source": [
    "- image recognition\n",
    "- computer vision\n",
    "- NLP/understanding problems\n",
    "- small dataset"
   ]
  },
  {
   "cell_type": "code",
   "execution_count": null,
   "id": "b638d7e1",
   "metadata": {},
   "outputs": [],
   "source": []
  }
 ],
 "metadata": {
  "kernelspec": {
   "display_name": "Python 3 (ipykernel)",
   "language": "python",
   "name": "python3"
  },
  "language_info": {
   "codemirror_mode": {
    "name": "ipython",
    "version": 3
   },
   "file_extension": ".py",
   "mimetype": "text/x-python",
   "name": "python",
   "nbconvert_exporter": "python",
   "pygments_lexer": "ipython3",
   "version": "3.9.7"
  }
 },
 "nbformat": 4,
 "nbformat_minor": 5
}
