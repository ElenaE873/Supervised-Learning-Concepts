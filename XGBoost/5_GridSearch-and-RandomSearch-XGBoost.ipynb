{
 "cells": [
  {
   "cell_type": "markdown",
   "id": "a4c4d8e9",
   "metadata": {},
   "source": [
    "How do we find the optimal values for several hyperparameters simultaneously?"
   ]
  },
  {
   "cell_type": "markdown",
   "id": "f65572b1",
   "metadata": {},
   "source": [
    "### GridSearchCV"
   ]
  },
  {
   "cell_type": "code",
   "execution_count": null,
   "id": "2d353c34",
   "metadata": {},
   "outputs": [],
   "source": [
    "from sklearn.model_selection import GridSearchCV\n",
    "\n",
    "#define X and y\n",
    "X, y = data.iloc[:, :-1], data.iloc[:, -1]\n",
    "\n",
    "#create the maxtrix\n",
    "DMatrix = xgb.DMatrix(data=X, label=y)\n",
    "\n",
    "\n",
    "gbm_param_grid = {'learning_rate': [0.01, 0.1, 0.5, 0.9],\n",
    "                 'n_estimators' : [200],\n",
    "                 'subsample' : [0.3, 0.5, 0.9]}\n",
    "\n",
    "#create the regressor\n",
    "gbm = xgb.XGBRegressor()\n",
    "\n",
    "grid_mse = GridSearchCV(estimator=gbm,  #regressor object\n",
    "                       param_grid=gbm_param_grid, #paramater grid\n",
    "                       scoring='neg_mean_squared_error',  #evaluation metric\n",
    "                       cv=4, verbose=1)  #number of cross-validation folds\n",
    "\n",
    "grid_mse.fit(X,y)\n",
    "\n",
    "print(\"Best parameters found:\", grid_mse.best_params_)\n",
    "print(\"Lowest RMSE found:\", np.sqrt(np.abs(grid_mse.best_score_)))"
   ]
  },
  {
   "cell_type": "markdown",
   "id": "bf539178",
   "metadata": {},
   "source": [
    "#### Random Search"
   ]
  },
  {
   "cell_type": "markdown",
   "id": "105f9eef",
   "metadata": {},
   "source": [
    "Significantly different from GridSearchCV:\n",
    "- the number of models you are required to iterate over doesn't grow as you expand the overall hyperparameter space.\n",
    "\n",
    "In random search, you can decide how many iterations random search should do before stopping.\n",
    "- during each iteration, randomly draw a value in the range of specified values for each hyperparameter searched over and train/evaluate a model with those hyperparameters."
   ]
  },
  {
   "cell_type": "code",
   "execution_count": null,
   "id": "6c23ed59",
   "metadata": {},
   "outputs": [],
   "source": [
    "from sklearn.model_selection import RandomizedSearchCV\n",
    "\n",
    "#define X and y\n",
    "X, y = data.iloc[:, :-1], data.iloc[:, -1]\n",
    "\n",
    "#create the maxtrix\n",
    "DMatrix = xgb.DMatrix(data=X, label=y)\n",
    "\n",
    "\n",
    "gbm_param_grid = {'learning_rate': [0.01, 0.1, 0.5, 0.9],\n",
    "                 'n_estimators' : [200],\n",
    "                 'subsample' : [0.3, 0.5, 0.9]}\n",
    "\n",
    "#create the regressor\n",
    "gbm = xgb.XGBRegressor()\n",
    "\n",
    "randomized_mse = GridSearchCV(estimator=gbm,  #regressor object\n",
    "                       param_grid=gbm_param_grid, #paramater grid\n",
    "                        n_iter = 25,\n",
    "                       scoring='neg_mean_squared_error',  #evaluation metric\n",
    "                       cv=4, verbose=1)  #number of cross-validation folds\n",
    "\n",
    "randomized_mse.fit(X, y)\n",
    "\n",
    "print(\"Best parameters found:\", grid_mse.best_params_)\n",
    "print(\"Lowest RMSE found:\", np.sqrt(np.abs(grid_mse.best_score_)))"
   ]
  },
  {
   "cell_type": "markdown",
   "id": "60d72e83",
   "metadata": {},
   "source": [
    "Grid Search Limitation:\n",
    "- Number of models you must build with every additional new parameter grows quickly\n",
    "\n",
    "Random Search Limitation:\n",
    "- Parameter space to explore can be massive\n",
    "- Randomly jumping througout the space looking for a 'best' result becomes a waiting game"
   ]
  }
 ],
 "metadata": {
  "kernelspec": {
   "display_name": "Python 3 (ipykernel)",
   "language": "python",
   "name": "python3"
  },
  "language_info": {
   "codemirror_mode": {
    "name": "ipython",
    "version": 3
   },
   "file_extension": ".py",
   "mimetype": "text/x-python",
   "name": "python",
   "nbconvert_exporter": "python",
   "pygments_lexer": "ipython3",
   "version": "3.9.7"
  }
 },
 "nbformat": 4,
 "nbformat_minor": 5
}
