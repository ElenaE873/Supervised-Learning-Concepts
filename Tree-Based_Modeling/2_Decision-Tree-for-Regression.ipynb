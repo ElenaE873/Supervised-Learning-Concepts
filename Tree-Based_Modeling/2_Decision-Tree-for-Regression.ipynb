{
 "cells": [
  {
   "cell_type": "markdown",
   "id": "bd02767e",
   "metadata": {},
   "source": [
    "**IN REGRESSION:  The target variable (IS NOT BINARY, or DISCRETE, like in classification) it is CONTINUOUS.**"
   ]
  },
  {
   "cell_type": "code",
   "execution_count": null,
   "id": "c2e44f45",
   "metadata": {},
   "outputs": [],
   "source": [
    "#import decision tree regressor and other necessary packages\n",
    "from sklearn.tree import DecisionTreeRegressor\n",
    "from sklearn.model_selection import train_test_split\n",
    "from sklearn.metrics import mean_squared_error as MSE\n",
    "\n",
    "#split the dataset into train/split\n",
    "X_train, X_test, y_train, y_test = train_test_split(X, y, test_size=0.2,\n",
    "                                                   random_state=3)\n",
    "\n",
    "#instantiate the classifier\n",
    "dtr = DecisionTreeRegressor(max_depth=4,\n",
    "                             min_samples_leaf=0.1,\n",
    "                            random_state=3) #reproducibility\n",
    "\n",
    "#fitting on the training split\n",
    "dtr.fit(X_train, y_train)\n",
    "\n",
    "#predict the test set for prediction of labels\n",
    "y_pred = dtr.predict(X_test)\n",
    "\n",
    "#evaluate the test-set by comparing the predicted labels to the test split labels\n",
    "mse_dtr = MSE(y_test, y_pred)\n",
    "rmse_dtr = mse_dtr**(1/2)\n",
    "\n",
    "print(rsme_dt)"
   ]
  }
 ],
 "metadata": {
  "kernelspec": {
   "display_name": "Python 3 (ipykernel)",
   "language": "python",
   "name": "python3"
  },
  "language_info": {
   "codemirror_mode": {
    "name": "ipython",
    "version": 3
   },
   "file_extension": ".py",
   "mimetype": "text/x-python",
   "name": "python",
   "nbconvert_exporter": "python",
   "pygments_lexer": "ipython3",
   "version": "3.9.7"
  }
 },
 "nbformat": 4,
 "nbformat_minor": 5
}
