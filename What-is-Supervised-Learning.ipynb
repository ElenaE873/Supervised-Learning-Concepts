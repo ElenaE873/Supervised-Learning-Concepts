{
 "cells": [
  {
   "cell_type": "markdown",
   "id": "5636d3a7",
   "metadata": {},
   "source": [
    "##### Supervised Learning"
   ]
  },
  {
   "cell_type": "markdown",
   "id": "05bf17d2",
   "metadata": {},
   "source": [
    "- relies on **labelled** data: meaning that there is some understanding about the **past** behavior of the problem being solved or trying to predict\n",
    "- two major types: \n",
    "    - **Clasification**\n",
    "    - **Regression**\n",
    "- Features can be either numeric or categorical\n",
    "- Numeric features should ideally be scaled (Z-scored)\n",
    "- Categorical features should ideally be encoded (one-hot encoding)"
   ]
  },
  {
   "cell_type": "markdown",
   "id": "b5a3c72c",
   "metadata": {},
   "source": [
    "##### Classification"
   ]
  },
  {
   "cell_type": "markdown",
   "id": "b53e7652",
   "metadata": {},
   "source": [
    "- involve outcomes that are either:\n",
    "    - **binary**\n",
    "    - or **multi-class**"
   ]
  },
  {
   "cell_type": "markdown",
   "id": "fa3cb947",
   "metadata": {},
   "source": [
    "##### Metric for Binary Classification"
   ]
  },
  {
   "cell_type": "markdown",
   "id": "36cfe3b6",
   "metadata": {},
   "source": [
    "- the most versatile metric is the AUC (Area Under the Receiver Operating Characteristic Curve)"
   ]
  },
  {
   "cell_type": "markdown",
   "id": "35781dfe",
   "metadata": {},
   "source": [
    "##### Metric for Multi-Class Classification"
   ]
  },
  {
   "cell_type": "markdown",
   "id": "b855ec8d",
   "metadata": {},
   "source": [
    "- best to use the Accuracy Score (higher is better)\n",
    "- and to look at the overall confusion matrix to evaluate the quality of the model"
   ]
  },
  {
   "cell_type": "markdown",
   "id": "e8655bae",
   "metadata": {},
   "source": [
    "##### AUC - ROC Curve"
   ]
  },
  {
   "cell_type": "markdown",
   "id": "0e42a368",
   "metadata": {},
   "source": [
    "- the probability that a randomly chosen positive data point will have a higher rank than a randomly negative data point\n",
    "- HIGHER AUC: means a more sensitive, better performing model"
   ]
  }
 ],
 "metadata": {
  "kernelspec": {
   "display_name": "Python 3 (ipykernel)",
   "language": "python",
   "name": "python3"
  },
  "language_info": {
   "codemirror_mode": {
    "name": "ipython",
    "version": 3
   },
   "file_extension": ".py",
   "mimetype": "text/x-python",
   "name": "python",
   "nbconvert_exporter": "python",
   "pygments_lexer": "ipython3",
   "version": "3.9.7"
  }
 },
 "nbformat": 4,
 "nbformat_minor": 5
}
