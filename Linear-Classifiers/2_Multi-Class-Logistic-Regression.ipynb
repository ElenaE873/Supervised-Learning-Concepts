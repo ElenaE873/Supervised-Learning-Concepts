{
 "cells": [
  {
   "cell_type": "markdown",
   "id": "86c912fc",
   "metadata": {},
   "source": [
    "Option 1:\n",
    "- Combining binary classifiers with one-vs-rest"
   ]
  },
  {
   "cell_type": "code",
   "execution_count": null,
   "id": "0b4f1f0d",
   "metadata": {},
   "outputs": [],
   "source": [
    "lr0.fit(X, y==0) #classify 0 or non-0\n",
    "lr1.fit(X, y==1) #classify 1 or non-1"
   ]
  },
  {
   "cell_type": "markdown",
   "id": "96c9c6a0",
   "metadata": {},
   "source": [
    "- Making predictions using one-vs-rest, we take the calss whose classifier **gives the largest raw model output** OR \"decision_function\""
   ]
  },
  {
   "cell_type": "code",
   "execution_count": null,
   "id": "d2412a94",
   "metadata": {},
   "outputs": [],
   "source": [
    "lr0.deciion_function(X)[0] #result is 6.1 for example\n",
    "lr1.deciion_function(X)[0] #result is -5.4 for example\n",
    "lr2.deciion_function(X)[0] #result is -7.5 for example\n",
    "#here we end up with one coeff and one intercept for each binary classification\n",
    "\n",
    "#the one that wins is lr0\n",
    "#check by:\n",
    "lr.fit(X, y)\n",
    "lr.predict(X)"
   ]
  },
  {
   "cell_type": "markdown",
   "id": "4760c5f9",
   "metadata": {},
   "source": [
    "Pros/Cons for One-vs.Rest vs. \"Multinomial\"/\"Softmax\"\n",
    "- fit a binary classifier for each class | fits single classifier for all classes\n",
    "- predicts with all, take largest output | prediction directly outputs best class\n",
    "- simple & modular | more complicated & new code\n",
    "- cannot directly optimize for accuracy | tackles directly\n",
    "- common for SVMs as well | possible SVMs but less common\n",
    "- both produce probabilities"
   ]
  }
 ],
 "metadata": {
  "kernelspec": {
   "display_name": "Python 3 (ipykernel)",
   "language": "python",
   "name": "python3"
  },
  "language_info": {
   "codemirror_mode": {
    "name": "ipython",
    "version": 3
   },
   "file_extension": ".py",
   "mimetype": "text/x-python",
   "name": "python",
   "nbconvert_exporter": "python",
   "pygments_lexer": "ipython3",
   "version": "3.9.7"
  }
 },
 "nbformat": 4,
 "nbformat_minor": 5
}
