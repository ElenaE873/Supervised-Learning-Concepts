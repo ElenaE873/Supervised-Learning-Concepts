{
 "cells": [
  {
   "cell_type": "markdown",
   "id": "9ba9acd4",
   "metadata": {},
   "source": [
    "### Regularization and Training Accuracy"
   ]
  },
  {
   "cell_type": "markdown",
   "id": "c497e19c",
   "metadata": {},
   "source": [
    "regularized loss = original loss + large coefficient penalty\n",
    "- **more regularization**: lower training accuracy\n",
    "\n",
    "But **more regularization** (almost always) improves TEST Accuracy:"
   ]
  },
  {
   "cell_type": "markdown",
   "id": "d3f83e90",
   "metadata": {},
   "source": [
    "Types of Regularization:\n",
    "- **Lasso**: lr with L1 regularization /lg \n",
    "- **Ridge**: lr with L2 regularization /lg"
   ]
  },
  {
   "cell_type": "code",
   "execution_count": null,
   "id": "6ae04ac7",
   "metadata": {},
   "outputs": [],
   "source": [
    "lr_l1 = LogisticRegression(penalty='l1')\n",
    "lr_l2 = LogisticRegression() #default l2 by default\n",
    "\n",
    "lr_l1.fit(X_train, y_train)\n",
    "le_l1.fit(X_train, y_train)\n",
    "\n",
    "plt.plot(lr_l1.coef_.flatten())\n",
    "plt.plot(lr_l2.coef_.flatten())"
   ]
  },
  {
   "cell_type": "code",
   "execution_count": null,
   "id": "21fba445",
   "metadata": {},
   "outputs": [],
   "source": [
    "# Train and validaton errors initialized as empty list\n",
    "train_errs = list()\n",
    "valid_errs = list()\n",
    "\n",
    "# Loop over values of C_value\n",
    "for C_value in [0.001, 0.01, 0.1, 1, 10, 100, 1000]:\n",
    "    # Create LogisticRegression object and fit\n",
    "    lr = LogisticRegression(C=C_value)\n",
    "    lr.fit(X_train, y_train)\n",
    "    \n",
    "    # Evaluate error rates and append to lists\n",
    "    train_errs.append( 1.0 - lr.score(X_train, y_train) )\n",
    "    valid_errs.append( 1.0 - lr.score(X_valid, y_valid) )\n",
    "    \n",
    "# Plot results\n",
    "plt.semilogx(C_values, train_errs, C_values, valid_errs)\n",
    "plt.legend((\"train\", \"validation\"))\n",
    "plt.show()"
   ]
  },
  {
   "cell_type": "code",
   "execution_count": null,
   "id": "9c3da6d2",
   "metadata": {},
   "outputs": [],
   "source": [
    "# Specify L1 regularization\n",
    "lr = LogisticRegression(penalty='l1')\n",
    "\n",
    "# Instantiate the GridSearchCV object and run the search\n",
    "searcher = GridSearchCV(lr, {'C':[0.001, 0.01, 0.1, 1, 10]})\n",
    "searcher.fit(X_train, y_train)\n",
    "\n",
    "# Report the best parameters\n",
    "print(\"Best CV params\", searcher.best_params_)\n",
    "\n",
    "# Find the number of nonzero coefficients (selected features)\n",
    "best_lr = searcher.best_estimator_\n",
    "coefs = best_lr.coef_\n",
    "print(\"Total number of features:\", coefs.size)\n",
    "print(\"Number of selected features:\", np.count_nonzero(coefs))"
   ]
  },
  {
   "cell_type": "markdown",
   "id": "94311f55",
   "metadata": {},
   "source": [
    "Logistic Regression vs. SVM (Support Vector Machine)\n",
    "- both are linear classifiers\n",
    "- lr can be slower with kernels, while both use them\n",
    "- lr can have meaningful probabilities, whereas does not occur in SVM (does not output probabilities)\n",
    "- both can be extended to multi-class\n",
    "- all data points affect the fit in lr | only \"support vectors\" in SVM affect the fit\n",
    "- only L2 is used in SVM, whereas both L1/L2 in lr\n",
    "\n",
    "SVMs\n",
    "- svm.LinearSVC (for linear)\n",
    "- svm.SVM (kernel svm)"
   ]
  },
  {
   "cell_type": "code",
   "execution_count": null,
   "id": "6be784ff",
   "metadata": {},
   "outputs": [],
   "source": []
  }
 ],
 "metadata": {
  "kernelspec": {
   "display_name": "Python 3 (ipykernel)",
   "language": "python",
   "name": "python3"
  },
  "language_info": {
   "codemirror_mode": {
    "name": "ipython",
    "version": 3
   },
   "file_extension": ".py",
   "mimetype": "text/x-python",
   "name": "python",
   "nbconvert_exporter": "python",
   "pygments_lexer": "ipython3",
   "version": "3.9.7"
  }
 },
 "nbformat": 4,
 "nbformat_minor": 5
}
