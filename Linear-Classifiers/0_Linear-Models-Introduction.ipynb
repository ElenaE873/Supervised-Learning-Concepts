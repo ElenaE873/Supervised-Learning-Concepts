{
 "cells": [
  {
   "cell_type": "markdown",
   "id": "25b025de",
   "metadata": {},
   "source": [
    "Just some basics"
   ]
  },
  {
   "cell_type": "code",
   "execution_count": null,
   "id": "f6059c49",
   "metadata": {},
   "outputs": [],
   "source": [
    "from sklearn.linear_model import LogisticRegression\n",
    "from sklearn.svm import SVC, LinearSVC\n",
    "from sklearn.neighbors import KNeighborsClassifier\n",
    "\n",
    "# Define the classifiers\n",
    "classifiers = [LogisticRegression(), LinearSVC(),\n",
    "               SVC(), KNeighborsClassifier()]\n",
    "\n",
    "# Fit the classifiers\n",
    "for c in classifiers:\n",
    "    c.fit(X, y)\n",
    "\n",
    "# Plot the classifiers\n",
    "plot_4_classifiers(X, y, classifiers)\n",
    "plt.show()"
   ]
  },
  {
   "cell_type": "markdown",
   "id": "12f6123b",
   "metadata": {},
   "source": [
    "Linear Models\n",
    "- they learn **linear decision boundaries**\n",
    "- any single line separating the catgories"
   ]
  },
  {
   "cell_type": "markdown",
   "id": "1eacba5c",
   "metadata": {},
   "source": [
    "Linearly Separable\n",
    "- a data set that can be perfectly explained by a linear classifier"
   ]
  },
  {
   "cell_type": "markdown",
   "id": "7d974f59",
   "metadata": {},
   "source": [
    "Classification\n",
    "- Learning to predict categories"
   ]
  },
  {
   "cell_type": "markdown",
   "id": "d29a13c8",
   "metadata": {},
   "source": [
    "### Linear Classifier Predictions\n",
    "- Same for: **Logistic Regression** and **linear SVM**\n",
    "      - fit is different\n",
    "      - but predict is the same"
   ]
  },
  {
   "cell_type": "markdown",
   "id": "4db47d4a",
   "metadata": {},
   "source": [
    "raw model output = coefficients*features* +intercept\n",
    "- if positive - predict one class\n",
    "- if negative - predict other classes"
   ]
  },
  {
   "cell_type": "code",
   "execution_count": null,
   "id": "0de020f5",
   "metadata": {},
   "outputs": [],
   "source": [
    "#getting the coefficient\n",
    "lr.coeff_@X[10] + lr.intercept_ #raw model output for 10"
   ]
  },
  {
   "cell_type": "markdown",
   "id": "30090d02",
   "metadata": {},
   "source": [
    "### Loss Function"
   ]
  },
  {
   "cell_type": "markdown",
   "id": "f751642c",
   "metadata": {},
   "source": [
    "- the process of the model's ability to minimize until the error of the model (different between the true target value and the predicted target value) is as small as possible."
   ]
  },
  {
   "cell_type": "markdown",
   "id": "9c51dcf2",
   "metadata": {},
   "source": [
    "- The **Squared Loss** not appropriate for classification problems."
   ]
  },
  {
   "cell_type": "markdown",
   "id": "344aabbb",
   "metadata": {},
   "source": [
    "- The **Natural Loss** for classification problem is the number of errors "
   ]
  }
 ],
 "metadata": {
  "kernelspec": {
   "display_name": "Python 3 (ipykernel)",
   "language": "python",
   "name": "python3"
  },
  "language_info": {
   "codemirror_mode": {
    "name": "ipython",
    "version": 3
   },
   "file_extension": ".py",
   "mimetype": "text/x-python",
   "name": "python",
   "nbconvert_exporter": "python",
   "pygments_lexer": "ipython3",
   "version": "3.9.7"
  }
 },
 "nbformat": 4,
 "nbformat_minor": 5
}
