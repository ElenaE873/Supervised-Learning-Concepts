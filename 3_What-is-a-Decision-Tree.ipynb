{
 "cells": [
  {
   "cell_type": "markdown",
   "id": "c0ac28eb",
   "metadata": {},
   "source": [
    "- Each node of a decision tree has single question that is being asked with two possible choices\n",
    "- Series of binary questions that when answered in succession ultimately build a prediction\n",
    "- The predictions occur at the \"leaves\" of the tree\n",
    "- Constructed iteratively (one decision at a time) until a stopping criterion is met"
   ]
  },
  {
   "cell_type": "markdown",
   "id": "af8ae336",
   "metadata": {},
   "source": [
    "##### Base Learner"
   ]
  },
  {
   "cell_type": "markdown",
   "id": "323d1d44",
   "metadata": {},
   "source": [
    "- individual learning algorithm in an ensemble algorithm"
   ]
  },
  {
   "cell_type": "markdown",
   "id": "582a0652",
   "metadata": {},
   "source": [
    "##### Low Bias | High Variance Learners"
   ]
  },
  {
   "cell_type": "markdown",
   "id": "b6bc3cbd",
   "metadata": {},
   "source": [
    "- meaning that decision trees tend to overfit\n",
    "- and generalize to new data poorly"
   ]
  },
  {
   "cell_type": "markdown",
   "id": "4329e7bd",
   "metadata": {},
   "source": [
    "##### CART: Classification and Regression Trees"
   ]
  },
  {
   "cell_type": "markdown",
   "id": "cceeca7c",
   "metadata": {},
   "source": [
    "- Each leaf always contains a real-value score\n",
    "- and each can later be converted into categories via thresholds"
   ]
  }
 ],
 "metadata": {
  "kernelspec": {
   "display_name": "Python 3 (ipykernel)",
   "language": "python",
   "name": "python3"
  },
  "language_info": {
   "codemirror_mode": {
    "name": "ipython",
    "version": 3
   },
   "file_extension": ".py",
   "mimetype": "text/x-python",
   "name": "python",
   "nbconvert_exporter": "python",
   "pygments_lexer": "ipython3",
   "version": "3.9.7"
  }
 },
 "nbformat": 4,
 "nbformat_minor": 5
}
