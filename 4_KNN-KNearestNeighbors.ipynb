{
 "cells": [
  {
   "cell_type": "markdown",
   "id": "a341437f",
   "metadata": {},
   "source": [
    "### KNN"
   ]
  },
  {
   "cell_type": "markdown",
   "id": "9421b2e9",
   "metadata": {},
   "source": [
    "The classification algorithm that estimatees the likelihood that a data point will become a member of one group versus another based on **what group the data point is nearest to**."
   ]
  },
  {
   "cell_type": "code",
   "execution_count": null,
   "id": "8a8b79e7",
   "metadata": {},
   "outputs": [],
   "source": [
    "from sklearn.neighbors import KNeighborsClassifier\n",
    "\n",
    "#instantiate the Neighbors CLassifier and set the \"neighbor\" numbers that can belog to a group\n",
    "knn = KNeighborsClassifier(n_neighbors=6)\n",
    "\n",
    "#creating arrays for the features and the response variable\n",
    "y = df['feature'].values   #feature\n",
    "X = df.drop('feature', axis=1).values  #target\n",
    "\n",
    "\n",
    "#fit classifer to the training (labeled) data\n",
    "knn.fit(df['features'], #features as NumPy array\n",
    "        df['target']) #labels as a NumPy array or PandasDataframe\n",
    "\n",
    "#OR \n",
    "knn.fit(X, y)  #using the defined variables above\n",
    "\n",
    "        #also important and required there is no missing data in the dataset\n",
    "    \n",
    "#predicting the labels for the training data X: y_pred\n",
    "y_pred = knn.predict(X)\n",
    "\n",
    "#predicting and print the label for the new data point X_new\n",
    "new_prediction = knn.predict(X_new)\n",
    "print(\"Prediction: {}\".format(new_prediction)) "
   ]
  },
  {
   "cell_type": "markdown",
   "id": "95b3c9aa",
   "metadata": {},
   "source": [
    "### Evaluation Components"
   ]
  },
  {
   "cell_type": "markdown",
   "id": "d4063b65",
   "metadata": {},
   "source": [
    "- Larger k: smoother decision boundary = less complex model\n",
    "- Smaller k: more complex model = can lead to overfitting"
   ]
  },
  {
   "cell_type": "markdown",
   "id": "3ab3dae8",
   "metadata": {},
   "source": [
    "Example"
   ]
  },
  {
   "cell_type": "code",
   "execution_count": null,
   "id": "d6415bd7",
   "metadata": {},
   "outputs": [],
   "source": [
    "# Setup arrays to store train and test accuracies\n",
    "neighbors = np.arange(1, 9)\n",
    "train_accuracy = np.empty(len(neighbors))\n",
    "test_accuracy = np.empty(len(neighbors))\n",
    "\n",
    "# Loop over different values of k\n",
    "for i, k in enumerate(neighbors):\n",
    "    # Setup a k-NN Classifier with k neighbors: knn\n",
    "    knn = KNeighborsClassifier(n_neighbors=k)\n",
    "\n",
    "    # Fit the classifier to the training data\n",
    "    knn.fit(X_train, y_train)\n",
    "    \n",
    "    #Compute accuracy on the training set\n",
    "    train_accuracy[i] = knn.score(X_train, y_train)\n",
    "\n",
    "    #Compute accuracy on the testing set\n",
    "    test_accuracy[i] = knn.score(X_test, y_test)\n",
    "\n",
    "# Generate plot\n",
    "plt.title('k-NN: Varying Number of Neighbors')\n",
    "plt.plot(neighbors, test_accuracy, label = 'Testing Accuracy')\n",
    "plt.plot(neighbors, train_accuracy, label = 'Training Accuracy')\n",
    "plt.legend()\n",
    "plt.xlabel('Number of Neighbors')\n",
    "plt.ylabel('Accuracy')\n",
    "plt.show()"
   ]
  }
 ],
 "metadata": {
  "kernelspec": {
   "display_name": "Python 3 (ipykernel)",
   "language": "python",
   "name": "python3"
  },
  "language_info": {
   "codemirror_mode": {
    "name": "ipython",
    "version": 3
   },
   "file_extension": ".py",
   "mimetype": "text/x-python",
   "name": "python",
   "nbconvert_exporter": "python",
   "pygments_lexer": "ipython3",
   "version": "3.9.7"
  }
 },
 "nbformat": 4,
 "nbformat_minor": 5
}
